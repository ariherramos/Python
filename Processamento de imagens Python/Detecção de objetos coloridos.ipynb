{
 "cells": [
  {
   "cell_type": "markdown",
   "metadata": {},
   "source": [
    "# Detecção de Objetos Coloridos\n",
    "Aluna: Arihé Redivo Ramos\n",
    "\n",
    "Data: 16/06/2018"
   ]
  },
  {
   "cell_type": "markdown",
   "metadata": {},
   "source": [
    "# Introdução"
   ]
  },
  {
   "cell_type": "markdown",
   "metadata": {},
   "source": [
    "Vimos que no espaço de cor HSV, o canal H (*hue*, matiz) apresenta certa independência em relação à iluminação de um objeto. Essa característica pode ser explorada para a detecção de objetos. Teste o código seguinte."
   ]
  },
  {
   "cell_type": "code",
   "execution_count": 12,
   "metadata": {},
   "outputs": [],
   "source": [
    "# Adaptado de http://docs.opencv.org/3.2.0/df/d9d/tutorial_py_colorspaces.html\n",
    "import numpy as np\n",
    "import cv2\n",
    "\n",
    "frame = cv2.imread(\"mms.jpg\") #obtida de http://blogs.mathworks.com/images/steve/2010/mms.jpg\n",
    "\n",
    "# Convert BGR to HSV\n",
    "hsv = cv2.cvtColor(frame, cv2.COLOR_BGR2HSV)\n",
    "# define range of blue color in HSV\n",
    "blue=100 #importante: faixa da componente H no OpenCV: [0, 179]\n",
    "thres=10\n",
    "lower_blue = np.array([blue-thres,50,50])\n",
    "upper_blue = np.array([blue+thres,255,255])\n",
    "\n",
    "# Threshold the HSV image to get only blue colors\n",
    "mask = cv2.inRange(hsv, lower_blue, upper_blue)\n",
    "# Bitwise-AND mask and original image\n",
    "res = cv2.bitwise_and(frame,frame, mask= mask)\n",
    "cv2.imshow('frame',frame)\n",
    "cv2.imshow('mask',mask)\n",
    "cv2.imshow('res',res)\n",
    "cv2.waitKey(0)\n",
    "cv2.destroyAllWindows()\n",
    "\n",
    "cv2.imwrite('mask.png', mask);\n",
    "cv2.imwrite('res.png', res);"
   ]
  },
  {
   "cell_type": "markdown",
   "metadata": {},
   "source": [
    "Imagem original:\n",
    "![alt text](mms.jpg \"Title\")\n",
    "\n",
    "Máscara originada pela detecção da cor azul:\n",
    "![alt text](mask.png \"Title\")\n",
    "\n",
    "Resultado do filtro:\n",
    "![alt text](res.png \"Title\")"
   ]
  },
  {
   "cell_type": "markdown",
   "metadata": {},
   "source": [
    "## Responda\n",
    "1. Na função *cvtColor*, que outras conversões estão disponíveis?\n",
    "\n",
    "    A função converte uma imagem de entrada de um espaço de cores para outro. No caso de uma transformação de para o espaço de cores RGB, a ordem dos canais deve ser especificada explicitamente (RGB ou BGR).\n",
    "    Fonte:https://docs.opencv.org/3.1.0/d7/d1b/group__imgproc__misc.html#ga397ae87e1288a81d2363b61574eb8cab\n",
    "\n",
    "\n",
    "2. O que faz a função *inRange*?\n",
    "\n",
    "    Checa se os elementos de uma matriz está entre os elementos de outros dois arrays.\n",
    "    \n",
    "    A função verifica o intervalo da maneira seguinte, para cada elemento de uma matriz de entrada de canal único:\n",
    "    \n",
    "        dst(I) = lowerb(Io) ≤ src(Io) ≤ upperb(Io)\n",
    "    \n",
    "    A função verifica o intervalo da maneira seguinte, para matrizes de dois canais:\n",
    "    \n",
    "        dst(I) = lowerb(Io) ≤ src(Io) ≤ upperb(Io) ∧ lowerb(Ii) ≤ src(Ii) ≤ upperb(Ii) e assim por diante.\n",
    "    \n",
    "   Ou seja, dst (I) está configurado para 255 (todos os 1 bits) se src (I) estiver dentro da caixa especificada 1D, 2D, 3D, ... e 0 caso contrário.\n",
    "\n",
    "    Fonte:https://docs.opencv.org/3.1.0/d2/de8/group__core__array.html#ga48af0ab51e36436c5d04340e036ce981"
   ]
  },
  {
   "cell_type": "markdown",
   "metadata": {},
   "source": [
    "Agora, vamos testar o mesmo procedimento usando um sinal de vídeo (webcam)."
   ]
  },
  {
   "cell_type": "code",
   "execution_count": null,
   "metadata": {},
   "outputs": [],
   "source": [
    "import cv2\n",
    "import numpy as np\n",
    "color_to_find=120 #importante: faixa da componente H no OpenCV: [0, 179]\n",
    "thres=10\n",
    "cap = cv2.VideoCapture(0)\n",
    "while(1):\n",
    "    # Take each frame\n",
    "    _, frame = cap.read()\n",
    "    # Convert BGR to HSV\n",
    "    hsv = cv2.cvtColor(frame, cv2.COLOR_BGR2HSV)\n",
    "    # define range of blue color in HSV\n",
    "\n",
    "    lower_blue = np.array([color_to_find-thres,50,50])\n",
    "    upper_blue = np.array([color_to_find+thres,255,255])\n",
    "    # Threshold the HSV image to get only blue colors\n",
    "    mask = cv2.inRange(hsv, lower_blue, upper_blue)\n",
    "    # Bitwise-AND mask and original image\n",
    "    res = cv2.bitwise_and(frame,frame, mask= mask)\n",
    "    cv2.imshow('frame',frame)\n",
    "    cv2.imshow('mask',mask)\n",
    "    cv2.imshow('res',res)\n",
    "    k = cv2.waitKey(5) & 0xFF\n",
    "    if k == 27:\n",
    "        break\n",
    "# When everything done, release the capture\n",
    "cap.release()\n",
    "cv2.destroyAllWindows()\n",
    "\n",
    "cv2.imwrite('frame2.jpg', frame );\n",
    "cv2.imwrite('mask2.jpg', mask);\n",
    "cv2.imwrite('res2.jpg', res);\n"
   ]
  },
  {
   "cell_type": "markdown",
   "metadata": {},
   "source": [
    "Inclua, aqui, um quadro capturado e o resultado. Para isso, você deve gravar as imagens com *imwrite* e incorporar o link com o código mostrado abaixo. Ao enviar seu relatório, inclua as imagens no pacote zip."
   ]
  },
  {
   "cell_type": "markdown",
   "metadata": {},
   "source": [
    "Ultimo frame para a detecção azul:\n",
    "![frame2](frame2.jpg \"FRAME2\")\n",
    "\n",
    "Máscara do frame:\n",
    "![mask2](mask2.jpg \"MASK2\")\n",
    "\n",
    "Resultado do Filtro:\n",
    "![res2](res2.jpg \"RES2\")"
   ]
  },
  {
   "cell_type": "markdown",
   "metadata": {},
   "source": [
    "Você deve ter observado que há muito ruído na máscara. Uma forma de fazer uma \"limpeza\" é através de operações morfológicas. "
   ]
  },
  {
   "cell_type": "markdown",
   "metadata": {},
   "source": [
    "# Operações morfológicas"
   ]
  },
  {
   "cell_type": "markdown",
   "metadata": {},
   "source": [
    "São operações baseadas no formato da imagem. Usam um *kernel* ou elemento estruturante que define a operação. Os operadores básicos são erosão e dilatação."
   ]
  },
  {
   "cell_type": "markdown",
   "metadata": {},
   "source": [
    "## Erosão\n",
    "\n",
    "A ideia básica da erosão é retirar os pixels que estão nas bordas do objeto (objeto é o que está em branco, ou seja, com intensidade 1).\n",
    "\n",
    "O elemento estruturante desliza sobre a imagem, como na convolução 2D. Um pixel na imagem resultado será 1 se todos os pixels no kernel forem 1, caso contrário, será erodido (intensidade 0).\n",
    "\n",
    "Desse modo, os pixels próximos às bordas serão descartados. Quanto? Depende do tamanho do kernel. Essa operação é útil, por exemplo, para remover ruídos isolados de pequeno tamanho e separar dois objetos conectados.\n",
    "\n",
    "Há vários exemplos em http://homepages.inf.ed.ac.uk/rbf/HIPR2/erode.htm\n",
    "\n",
    "Observe o exemplo com um elemento estruturante 5x5.\n"
   ]
  },
  {
   "cell_type": "code",
   "execution_count": 18,
   "metadata": {},
   "outputs": [],
   "source": [
    "#Exemplo de http://docs.opencv.org/3.2.0/d9/d61/tutorial_py_morphological_ops.html\n",
    "import cv2\n",
    "import numpy as np\n",
    "img = cv2.imread('j.png',0)\n",
    "kernel = np.ones((5,5),np.uint8)\n",
    "erosion = cv2.erode(img,kernel,iterations = 1)\n",
    "#inclua o código para visualização do resultado"
   ]
  },
  {
   "cell_type": "markdown",
   "metadata": {},
   "source": [
    "## Dilatação\n",
    "\n",
    "É o oposto da erosão. Aqui, um pixel resultado será 1 se pelo menos um dos pixels sob análise for 1. Desse modo, há um aumento do tamanho do objeto (aumento da região branca).\n",
    "\n",
    "Dilatação é comumente aplicada após uma operação de erosão para redução de ruído. Também é útil para unir partes de um objeto."
   ]
  },
  {
   "cell_type": "code",
   "execution_count": 19,
   "metadata": {},
   "outputs": [],
   "source": [
    "dilation = cv2.dilate(img,kernel,iterations = 1)\n",
    "#inclua o código para visualização do resultado"
   ]
  },
  {
   "cell_type": "code",
   "execution_count": 20,
   "metadata": {},
   "outputs": [],
   "source": [
    "cv2.imwrite('erosion.png', erosion);\n",
    "cv2.imwrite('dilation.png', dilation);"
   ]
  },
  {
   "cell_type": "markdown",
   "metadata": {},
   "source": [
    "Imagem original:\n",
    "![alt text](j.png \"Title\")\n",
    "Eroção na Imagem:\n",
    "![alt text](erosion.png \"Title\")\n",
    "Dilatação na imagem:\n",
    "![alt text](dilation.png \"Title\")"
   ]
  },
  {
   "cell_type": "markdown",
   "metadata": {},
   "source": [
    "## Abertura e fechamento\n",
    "São operações que usam erosão e dilatação."
   ]
  },
  {
   "cell_type": "markdown",
   "metadata": {},
   "source": [
    "## Atividade\n",
    "Você vai fazer um contador automático de M&Ms.\n",
    "\n",
    "Usando a imagem dos M&Ms (ou outra que você achar interessante), identifique os de cor verde. A primeira etapa é processar a imagem de modo que não exista conexão entre objetos próximos. Isso é necessário para a etapa seguinte, de contagem, a ser vista na próxima aula.\n",
    "\n",
    "Inclua seu código e imagens de resultado."
   ]
  },
  {
   "cell_type": "code",
   "execution_count": 58,
   "metadata": {},
   "outputs": [],
   "source": [
    "# Adaptado de http://docs.opencv.org/3.2.0/df/d9d/tutorial_py_colorspaces.html\n",
    "import numpy as np\n",
    "import cv2\n",
    "\n",
    "frame = cv2.imread(\"fig_4.jpg\") \n",
    "\n",
    "# Convert BGR to HSV\n",
    "hsv = cv2.cvtColor(frame, cv2.COLOR_BGR2HSV)\n",
    "\n",
    "# define range of blue color in HSV\n",
    "green=44 #importante: faixa da componente H no OpenCV: [0, 179]\n",
    "thres=10\n",
    "lower_green = np.array([green-thres,50,50])\n",
    "upper_green = np.array([green+thres,255,255])\n",
    "\n",
    "# Threshold the HSV image to get only blue colkors\n",
    "mask = cv2.inRange(hsv, lower_green, upper_green)\n",
    "\n",
    "kernel = np.ones((3,3),np.uint8)\n",
    "\n",
    "cv2.imshow('mask',mask)\n",
    "\n",
    "mask = cv2.erode(mask,kernel,iterations = 2)\n",
    "mask = cv2.dilate(mask,kernel,iterations = 2)\n",
    "\n",
    "# Bitwise-AND mask and original image\n",
    "res = cv2.bitwise_and(frame,frame, mask= mask)\n",
    "cv2.imshow('frame',frame)\n",
    "cv2.imwrite('frame3.png', frame);\n",
    "cv2.imshow('mask',mask)\n",
    "cv2.imwrite('mask3.png', mask);\n",
    "cv2.imshow('res',res)\n",
    "cv2.imwrite('res3.png', res);\n",
    "\n",
    "balinhas = 0\n",
    "\n",
    "labelnum, labelimg, contours, GoCs = cv2.connectedComponentsWithStats(mask)\n",
    "for label in xrange(1,labelnum):\n",
    "    x,y,w,h,size = contours[label]\n",
    "    if size >= 1000:\n",
    "        frame2 = cv2.rectangle(frame, (x,y), (x+w,y+h), (255,255,255), 1)\n",
    "    \n",
    "    if size >= 4500:\n",
    "        total = total + 1\n",
    "    \n",
    "    x,y = GoCs[label]\n",
    "    frame2 = cv2.circle(frame2, (int(x),int(y)), 44, (255,255,255), 1) \n",
    "\n",
    "balinhas = balinhas + (labelnum-1)\n",
    "\n",
    "cv2.imshow('frame2',frame2)\n",
    "cv2.waitKey(0)\n",
    "cv2.destroyAllWindows()\n",
    "cv2.imwrite('frame4.png', frame2);"
   ]
  },
  {
   "cell_type": "markdown",
   "metadata": {},
   "source": [
    "Imagem original:\n",
    "![alt text](frame3.png \"Title\")\n",
    "\n",
    "Máscara do frame para cor verde:\n",
    "![alt text](mask3.png \"Title\")\n",
    "\n",
    "Resultado do Filtro:\n",
    "![alt text](res3.png \"Title\")\n",
    "\n",
    "Detecção das balas verdes:\n",
    "![alt text](frame4.png \"Title\")\n",
    "\n",
    "Números de balas verdes indentificadas:"
   ]
  },
  {
   "cell_type": "code",
   "execution_count": 59,
   "metadata": {},
   "outputs": [
    {
     "data": {
      "text/plain": [
       "5"
      ]
     },
     "metadata": {},
     "output_type": "display_data"
    }
   ],
   "source": [
    "display(balinhas)"
   ]
  }
 ],
 "metadata": {
  "anaconda-cloud": {},
  "celltoolbar": "Attachments",
  "kernelspec": {
   "display_name": "Python 2",
   "language": "python",
   "name": "python2"
  },
  "language_info": {
   "codemirror_mode": {
    "name": "ipython",
    "version": 2
   },
   "file_extension": ".py",
   "mimetype": "text/x-python",
   "name": "python",
   "nbconvert_exporter": "python",
   "pygments_lexer": "ipython2",
   "version": "2.7.15"
  }
 },
 "nbformat": 4,
 "nbformat_minor": 1
}
